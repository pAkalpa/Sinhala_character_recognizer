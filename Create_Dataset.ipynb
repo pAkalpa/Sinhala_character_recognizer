{
 "cells": [
  {
   "cell_type": "code",
   "execution_count": 1,
   "metadata": {},
   "outputs": [
    {
     "name": "stdout",
     "output_type": "stream",
     "text": [
      "['a', 'ae', 'e', 'u']\n",
      "[0, 1, 2, 3]\n",
      "{'a': 0, 'ae': 1, 'e': 2, 'u': 3}\n"
     ]
    }
   ],
   "source": [
    "import os\n",
    "import numpy as np\n",
    "\n",
    "data_path = 'dataset'\n",
    "\n",
    "categories = os.listdir(data_path)\n",
    "print(categories)\n",
    "\n",
    "labels = [i for i in range(len(categories))]\n",
    "print(labels)\n",
    "\n",
    "category_dict = {'a':0,'ae':1,'e':2,'u':3}\n",
    "print(category_dict)"
   ]
  },
  {
   "cell_type": "code",
   "execution_count": 7,
   "metadata": {},
   "outputs": [],
   "source": [
    "import cv2\n",
    "\n",
    "data = []\n",
    "target = []\n",
    "\n",
    "for category in categories:\n",
    "    imgs_path = os.path.join(data_path,category)\n",
    "    #print(imgs_path)\n",
    "    img_names = os.listdir(imgs_path)\n",
    "    #print(img_names)\n",
    "    \n",
    "    for img_name in img_names:\n",
    "        img_path = os.path.join(imgs_path,img_name)\n",
    "        #print(img_path)\n",
    "        img = cv2.imread(img_path,0)\n",
    "        img = cv2.resize(img,(9,9))\n",
    "        data.append(img)\n",
    "        target.append(category_dict[category])"
   ]
  },
  {
   "cell_type": "code",
   "execution_count": 8,
   "metadata": {},
   "outputs": [
    {
     "name": "stdout",
     "output_type": "stream",
     "text": [
      "270 270\n"
     ]
    }
   ],
   "source": [
    "print(len(data),len(target))"
   ]
  },
  {
   "cell_type": "code",
   "execution_count": 9,
   "metadata": {},
   "outputs": [
    {
     "data": {
      "text/plain": [
       "<matplotlib.image.AxesImage at 0x18c02b71460>"
      ]
     },
     "execution_count": 9,
     "metadata": {},
     "output_type": "execute_result"
    },
    {
     "data": {
      "image/png": "[encoded data removed]",
      "text/plain": [
       "<Figure size 432x288 with 1 Axes>"
      ]
     },
     "metadata": {
      "needs_background": "light"
     },
     "output_type": "display_data"
    }
   ],
   "source": [
    "from matplotlib import pyplot as plt\n",
    "plt.imshow(data[10],cmap='gray')"
   ]
  },
  {
   "cell_type": "code",
   "execution_count": 10,
   "metadata": {},
   "outputs": [
    {
     "data": {
      "text/plain": [
       "array([[255, 255, 255, 255, 255, 255, 255, 255, 255],\n",
       "       [255, 255, 255, 255, 255, 255, 255, 255, 255],\n",
       "       [ 71,   0, 113,   0,   0,   0, 113,   0, 255],\n",
       "       [156,  57, 255, 255, 255,   0, 255, 127, 255],\n",
       "       [255, 255,   0, 128, 255, 255,   0, 255, 255],\n",
       "       [255, 255,   0, 156,  57,  57,   0,   0,   0],\n",
       "       [255, 255, 255, 255, 255, 255,   0, 255, 255],\n",
       "       [255, 255, 255, 255, 255, 255,   0, 255, 255],\n",
       "       [255, 255, 255, 255, 255, 255, 255, 255, 255]], dtype=uint8)"
      ]
     },
     "execution_count": 10,
     "metadata": {},
     "output_type": "execute_result"
    }
   ],
   "source": [
    "data[10]"
   ]
  },
  {
   "cell_type": "code",
   "execution_count": 11,
   "metadata": {},
   "outputs": [
    {
     "data": {
      "text/plain": [
       "0"
      ]
     },
     "execution_count": 11,
     "metadata": {},
     "output_type": "execute_result"
    }
   ],
   "source": [
    "target[10]"
   ]
  },
  {
   "cell_type": "code",
   "execution_count": 12,
   "metadata": {},
   "outputs": [
    {
     "name": "stdout",
     "output_type": "stream",
     "text": [
      "before resize: (270, 9, 9)\n",
      "after resize: (270, 81)\n"
     ]
    }
   ],
   "source": [
    "data = np.array(data)\n",
    "print('before resize:',data.shape)\n",
    "data = data.reshape(data.shape[0],data.shape[1]*data.shape[2])\n",
    "print('after resize:',data.shape)\n",
    "target = np.array(target)\n",
    "\n",
    "np.save('data',data)\n",
    "np.save('target',target)"
   ]
  },
  {
   "cell_type": "code",
   "execution_count": 13,
   "metadata": {},
   "outputs": [
    {
     "name": "stdout",
     "output_type": "stream",
     "text": [
      "(270,)\n"
     ]
    }
   ],
   "source": [
    "print(target.shape)"
   ]
  }
 ],
 "metadata": {
  "kernelspec": {
   "display_name": "Python 3",
   "language": "python",
   "name": "python3"
  },
  "language_info": {
   "codemirror_mode": {
    "name": "ipython",
    "version": 3
   },
   "file_extension": ".py",
   "mimetype": "text/x-python",
   "name": "python",
   "nbconvert_exporter": "python",
   "pygments_lexer": "ipython3",
   "version": "3.8.5"
  }
 },
 "nbformat": 4,
 "nbformat_minor": 4
}
